{
 "cells": [
  {
   "cell_type": "code",
   "execution_count": 4,
   "metadata": {},
   "outputs": [],
   "source": [
    "import gzip\n",
    "import shutil\n"
   ]
  },
  {
   "cell_type": "code",
   "execution_count": 6,
   "metadata": {},
   "outputs": [
    {
     "name": "stdout",
     "output_type": "stream",
     "text": [
      "Archivo .json descomprimido y guardado como: C:/Users/mateo/OneDrive/Escritorio/data science/labs/datos/datos descomprimidos/SteamGames.json\n"
     ]
    }
   ],
   "source": [
    "# Ruta del archivo .json.gz\n",
    "archivo_json_gz = 'C:/Users/mateo/OneDrive/Escritorio/data science/labs/datos/steam_games.json.gz'\n",
    "\n",
    "# Ruta para guardar el archivo .json resultante\n",
    "archivo_json = 'C:/Users/mateo/OneDrive/Escritorio/data science/labs/datos/datos descomprimidos/SteamGames.json'\n",
    "\n",
    "# Descomprimir el archivo .json.gz\n",
    "with gzip.open(archivo_json_gz, 'rb') as f_in:\n",
    "    with open(archivo_json, 'wb') as f_out:\n",
    "        shutil.copyfileobj(f_in, f_out)\n",
    "\n",
    "print(\"Archivo .json descomprimido y guardado como:\", archivo_json)\n"
   ]
  },
  {
   "cell_type": "code",
   "execution_count": 10,
   "metadata": {},
   "outputs": [
    {
     "name": "stdout",
     "output_type": "stream",
     "text": [
      "Archivo .json descomprimido y guardado como: C:/Users/mateo/OneDrive/Escritorio/data science/labs/datos/datos descomprimidos/UserReviews.json\n"
     ]
    }
   ],
   "source": [
    "# Ruta del archivo .json.gz\n",
    "archivo_json_gz = r\"C:\\Users\\mateo\\OneDrive\\Escritorio\\data science\\labs\\datos\\user_reviews.json.gz\"\n",
    "\n",
    "# Ruta para guardar el archivo .json resultante\n",
    "archivo_json = r'C:/Users/mateo/OneDrive/Escritorio/data science/labs/datos/datos descomprimidos/UserReviews.json'\n",
    "\n",
    "# Descomprimir el archivo .json.gz\n",
    "with gzip.open(archivo_json_gz, 'rb') as f_in:\n",
    "    with open(archivo_json, 'wb') as f_out:\n",
    "        shutil.copyfileobj(f_in, f_out)\n",
    "\n",
    "print(\"Archivo .json descomprimido y guardado como:\", archivo_json)"
   ]
  },
  {
   "cell_type": "code",
   "execution_count": 11,
   "metadata": {},
   "outputs": [
    {
     "name": "stdout",
     "output_type": "stream",
     "text": [
      "Archivo .json descomprimido y guardado como: C:/Users/mateo/OneDrive/Escritorio/data science/labs/datos/datos descomprimidos/UsersItems.json\n"
     ]
    }
   ],
   "source": [
    "# Ruta del archivo .json.gz\n",
    "archivo_json_gz = r\"C:\\Users\\mateo\\OneDrive\\Escritorio\\data science\\labs\\datos\\users_items.json.gz\"\n",
    "# Ruta para guardar el archivo .json resultante\n",
    "archivo_json = r'C:/Users/mateo/OneDrive/Escritorio/data science/labs/datos/datos descomprimidos/UsersItems.json'\n",
    "\n",
    "# Descomprimir el archivo .json.gz\n",
    "with gzip.open(archivo_json_gz, 'rb') as f_in:\n",
    "    with open(archivo_json, 'wb') as f_out:\n",
    "        shutil.copyfileobj(f_in, f_out)\n",
    "\n",
    "print(\"Archivo .json descomprimido y guardado como:\", archivo_json)"
   ]
  }
 ],
 "metadata": {
  "kernelspec": {
   "display_name": "Python 3",
   "language": "python",
   "name": "python3"
  },
  "language_info": {
   "codemirror_mode": {
    "name": "ipython",
    "version": 3
   },
   "file_extension": ".py",
   "mimetype": "text/x-python",
   "name": "python",
   "nbconvert_exporter": "python",
   "pygments_lexer": "ipython3",
   "version": "3.11.5"
  }
 },
 "nbformat": 4,
 "nbformat_minor": 2
}
