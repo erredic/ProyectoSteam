{
 "cells": [
  {
   "cell_type": "code",
   "execution_count": 1,
   "metadata": {},
   "outputs": [],
   "source": [
    "import pandas as pd\n",
    "\n"
   ]
  },
  {
   "cell_type": "code",
   "execution_count": 2,
   "metadata": {},
   "outputs": [],
   "source": [
    "# Cargar los datos desde archivos Parquet\n",
    "steam_games_df = pd.read_parquet(r\"C:\\Users\\mateo\\OneDrive\\Escritorio\\data science\\labs\\PROYECTOSTEAAM\\PARQUET\\SteamGames.parquet\")\n",
    "\n",
    "steam_games_df['genres'] = steam_games_df['genres'].str.replace('\\x00', '')\n",
    "\n",
    "# Guardar el DataFrame steam_games_df limpio en un archivo Parquet\n",
    "steam_games_df.to_parquet(\"SteamGames_cleaned.parquet\")\n",
    "\n"
   ]
  }
 ],
 "metadata": {
  "kernelspec": {
   "display_name": "Python 3",
   "language": "python",
   "name": "python3"
  },
  "language_info": {
   "codemirror_mode": {
    "name": "ipython",
    "version": 3
   },
   "file_extension": ".py",
   "mimetype": "text/x-python",
   "name": "python",
   "nbconvert_exporter": "python",
   "pygments_lexer": "ipython3",
   "version": "3.11.5"
  }
 },
 "nbformat": 4,
 "nbformat_minor": 2
}
