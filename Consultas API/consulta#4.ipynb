{
 "cells": [
  {
   "cell_type": "markdown",
   "metadata": {},
   "source": [
    "def best_developer_year( año : int ): Devuelve el top 3 de desarrolladores con juegos MÁS recomendados por usuarios para el año dado. (reviews.recommend = True y comentarios positivos)"
   ]
  },
  {
   "cell_type": "code",
   "execution_count": 1,
   "metadata": {},
   "outputs": [
    {
     "name": "stdout",
     "output_type": "stream",
     "text": [
      "[{'Puesto 1: Firaxis Games,Aspyr (Mac, Linux)': 146}, {'Puesto 2: TaleWorlds Entertainment': 79}, {'Puesto 3: Obsidian Entertainment': 74}]\n"
     ]
    }
   ],
   "source": [
    "import pandas as pd\n",
    "\n",
    "def best_developer_year(año: int):\n",
    "    # Cargar los DataFrames\n",
    "    steam_games_df = pd.read_parquet(\"SteamGames.parquet\")\n",
    "    user_reviews_df = pd.read_parquet(\"UserReviews.parquet\")\n",
    "\n",
    "    # Eliminar filas con valores faltantes en la columna 'release_date'\n",
    "    steam_games_df = steam_games_df.dropna(subset=['release_date'])\n",
    "\n",
    "    # Convertir la columna 'release_date' a tipo datetime\n",
    "    steam_games_df['release_date'] = pd.to_datetime(steam_games_df['release_date'], errors='coerce')\n",
    "\n",
    "    # Filtrar los juegos por el año proporcionado\n",
    "    juegos_año = steam_games_df[steam_games_df['release_date'].dt.year == año]\n",
    "\n",
    "    # Si no hay juegos para el año dado, devolver un mensaje\n",
    "    if juegos_año.empty:\n",
    "        return \"No se encontraron juegos para el año proporcionado.\"\n",
    "\n",
    "    # Obtener las revisiones para los juegos del año dado\n",
    "    reviews_año = user_reviews_df[user_reviews_df['item_id'].isin(juegos_año['item_id'])]\n",
    "\n",
    "    # Filtrar las revisiones recomendadas\n",
    "    reviews_recomendadas = reviews_año[(reviews_año['recommend'] == True) & (reviews_año['sentiment_analysis'] > 0)]\n",
    "\n",
    "    # Unir las revisiones con la información del juego (desarrollador)\n",
    "    reviews_juegos_año = reviews_recomendadas.merge(steam_games_df, left_on='item_id', right_on='item_id', how='inner')\n",
    "\n",
    "    # Contar la cantidad de revisiones por desarrollador\n",
    "    desarrolladores_recomendados = reviews_juegos_año.groupby('developer')['recommend'].count()\n",
    "\n",
    "    # Obtener el top 3 de desarrolladores con más revisiones recomendadas\n",
    "    top_desarrolladores = desarrolladores_recomendados.nlargest(3)\n",
    "\n",
    "    # Formatear los resultados en el formato requerido\n",
    "    resultados = [{\"Puesto {}: {}\".format(idx+1, desarrollador): juegos_recomendados} for idx, (desarrollador, juegos_recomendados) in enumerate(top_desarrolladores.items())]\n",
    "\n",
    "    return resultados\n",
    "\n",
    "# Obtener el año desde el usuario\n",
    "año = int(input(\"Ingresa el año: \"))\n",
    "resultado = best_developer_year(año)\n",
    "print(resultado)\n"
   ]
  },
  {
   "cell_type": "code",
   "execution_count": 2,
   "metadata": {},
   "outputs": [],
   "source": [
    "import pandas as pd\n",
    "\n",
    "def best_developer_year(año: int):\n",
    "    # Cargar los DataFrames\n",
    "    steam_games_df = pd.read_parquet(\"SteamGames.parquet\")\n",
    "    user_reviews_df = pd.read_parquet(\"UserReviews.parquet\")\n",
    "\n",
    "    # Eliminar filas con valores faltantes en la columna 'release_date'\n",
    "    steam_games_df = steam_games_df.dropna(subset=['release_date'])\n",
    "\n",
    "    # Convertir la columna 'release_date' a tipo datetime\n",
    "    steam_games_df['release_date'] = pd.to_datetime(steam_games_df['release_date'], errors='coerce')\n",
    "\n",
    "    # Filtrar los juegos por el año proporcionado\n",
    "    juegos_año = steam_games_df[steam_games_df['release_date'].dt.year == año]\n",
    "\n",
    "    # Si no hay juegos para el año dado, devolver un mensaje\n",
    "    if juegos_año.empty:\n",
    "        return \"No se encontraron juegos para el año proporcionado.\"\n",
    "\n",
    "    # Obtener las revisiones para los juegos del año dado\n",
    "    reviews_año = user_reviews_df[user_reviews_df['item_id'].isin(juegos_año['item_id'])]\n",
    "\n",
    "    # Filtrar las revisiones recomendadas\n",
    "    reviews_recomendadas = reviews_año[(reviews_año['recommend'] == True) & (reviews_año['sentiment_analysis'] > 0)]\n",
    "\n",
    "    # Unir las revisiones con la información del juego (desarrollador)\n",
    "    reviews_juegos_año = reviews_recomendadas.merge(steam_games_df, left_on='item_id', right_on='item_id', how='inner')\n",
    "\n",
    "    # Contar la cantidad de revisiones por desarrollador\n",
    "    desarrolladores_recomendados = reviews_juegos_año.groupby('developer')['recommend'].count()\n",
    "\n",
    "    # Obtener el top 3 de desarrolladores con más revisiones recomendadas\n",
    "    top_desarrolladores = desarrolladores_recomendados.nlargest(3)\n",
    "\n",
    "    # Formatear los resultados en el formato requerido\n",
    "    resultados = [{\"Puesto {}: {}\".format(idx+1, desarrollador): juegos_recomendados} for idx, (desarrollador, juegos_recomendados) in enumerate(top_desarrolladores.items())]\n",
    "\n",
    "    return resultados\n",
    "\n",
    "\n"
   ]
  },
  {
   "cell_type": "code",
   "execution_count": 3,
   "metadata": {},
   "outputs": [
    {
     "name": "stdout",
     "output_type": "stream",
     "text": [
      "[{'Puesto 1: Firaxis Games,Aspyr (Mac, Linux)': 146}, {'Puesto 2: TaleWorlds Entertainment': 79}, {'Puesto 3: Obsidian Entertainment': 74}]\n"
     ]
    }
   ],
   "source": [
    "# Llamar a la función con el año proporcionado\n",
    "año_proporcionado = 2010  # Reemplaza con el año que desees analizar\n",
    "resultado = best_developer_year(año_proporcionado)\n",
    "print(resultado)"
   ]
  }
 ],
 "metadata": {
  "kernelspec": {
   "display_name": "Python 3",
   "language": "python",
   "name": "python3"
  },
  "language_info": {
   "codemirror_mode": {
    "name": "ipython",
    "version": 3
   },
   "file_extension": ".py",
   "mimetype": "text/x-python",
   "name": "python",
   "nbconvert_exporter": "python",
   "pygments_lexer": "ipython3",
   "version": "3.11.5"
  }
 },
 "nbformat": 4,
 "nbformat_minor": 2
}
