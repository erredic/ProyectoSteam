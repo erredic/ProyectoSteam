{
 "cells": [
  {
   "cell_type": "markdown",
   "metadata": {},
   "source": [
    "def userdata( User_id : str ): Debe devolver cantidad de dinero gastado por el usuario, el porcentaje de recomendación en base a reviews.recommend y cantidad de items."
   ]
  },
  {
   "cell_type": "code",
   "execution_count": 1,
   "metadata": {},
   "outputs": [
    {
     "name": "stdout",
     "output_type": "stream",
     "text": [
      "No se encuentra ese usuario.\n"
     ]
    }
   ],
   "source": [
    "import pandas as pd\n",
    "\n",
    "def userdata(user_id):\n",
    "    # Cargar los archivos Parquet\n",
    "    user_items_df = pd.read_parquet(\"UsersItems.parquet\")\n",
    "    user_reviews_df = pd.read_parquet(\"UserReviews.parquet\")\n",
    "    steam_games_df = pd.read_parquet(\"SteamGames.parquet\")\n",
    "\n",
    "    # Verificar si el ID de usuario existe en ambos DataFrames\n",
    "    if user_id not in user_items_df['user_id'].values:\n",
    "        return \"No se encuentra ese usuario.\"\n",
    "\n",
    "    # Filtrar el DataFrame de items por el usuario dado usando .loc\n",
    "    user_items_filtered = user_items_df.loc[user_items_df['user_id'] == user_id].copy()\n",
    "\n",
    "    # Asegurarse de que 'item_id' en ambos DataFrames sea del mismo tipo\n",
    "    user_items_filtered.loc[:, 'item_id'] = user_items_filtered['item_id'].astype(int)\n",
    "    steam_games_df.loc[:, 'item_id'] = steam_games_df['item_id'].astype(int)\n",
    "\n",
    "    # Obtener los precios de los juegos comprados por el usuario\n",
    "    precios_juegos = user_items_filtered.merge(\n",
    "        steam_games_df[['item_id', 'price']], \n",
    "        left_on='item_id', \n",
    "        right_on='item_id',\n",
    "        how='left'\n",
    "    )['price']\n",
    "\n",
    "    # Convertir los precios a números\n",
    "    precios_juegos = pd.to_numeric(precios_juegos, errors='coerce')\n",
    "\n",
    "    # Calcular el total gastado por el usuario\n",
    "    total_gastado = precios_juegos.sum()\n",
    "\n",
    "    # Filtrar el DataFrame de revisiones por el usuario dado usando .loc\n",
    "    user_reviews_filtered = user_reviews_df.loc[user_reviews_df['user_id'] == user_id].copy()\n",
    "\n",
    "    # Calcular el porcentaje de recomendación\n",
    "    if len(user_reviews_filtered) > 0:\n",
    "        porcentaje_recomendacion = (user_reviews_filtered['recommend'].sum() / len(user_reviews_filtered)) * 100\n",
    "        mensaje_recomendacion = f\"{porcentaje_recomendacion:.2f}% de recomendación\"\n",
    "    else:\n",
    "        mensaje_recomendacion = \"Este jugador nunca ha recomendado\"\n",
    "\n",
    "    # Calcular la cantidad de items del usuario\n",
    "    cantidad_items = len(user_items_filtered)\n",
    "\n",
    "    # Crear el diccionario de retorno\n",
    "    retorno = {\n",
    "        \"Usuario\": user_id,\n",
    "        \"Dinero gastado\": f\"{total_gastado:.2f} USD\",\n",
    "        \"% de recomendación\": mensaje_recomendacion,\n",
    "        \"Cantidad de items\": cantidad_items\n",
    "    }\n",
    "\n",
    "    return retorno\n",
    "\n",
    "# Solicitar al usuario que ingrese el ID de usuario\n",
    "user_id = input(\"Ingrese el ID de usuario: \")\n",
    "\n",
    "# Llamar a la función userdata\n",
    "resultado = userdata(user_id)\n",
    "\n",
    "# Imprimir el resultado\n",
    "print(resultado)\n",
    "\n"
   ]
  },
  {
   "cell_type": "code",
   "execution_count": 2,
   "metadata": {},
   "outputs": [],
   "source": [
    "import pandas as pd\n",
    "\n",
    "def userdata(user_id):\n",
    "    # Cargar los archivos Parquet\n",
    "    user_items_df = pd.read_parquet(\"UsersItems.parquet\")\n",
    "    user_reviews_df = pd.read_parquet(\"UserReviews.parquet\")\n",
    "    steam_games_df = pd.read_parquet(\"SteamGames.parquet\")\n",
    "\n",
    "    # Verificar si el ID de usuario existe en ambos DataFrames\n",
    "    if user_id not in user_items_df['user_id'].values:\n",
    "        return \"No se encuentra ese usuario.\"\n",
    "\n",
    "    # Filtrar el DataFrame de items por el usuario dado usando .loc\n",
    "    user_items_filtered = user_items_df.loc[user_items_df['user_id'] == user_id].copy()\n",
    "\n",
    "    # Asegurarse de que 'item_id' en ambos DataFrames sea del mismo tipo\n",
    "    user_items_filtered.loc[:, 'item_id'] = user_items_filtered['item_id'].astype(int)\n",
    "    steam_games_df.loc[:, 'item_id'] = steam_games_df['item_id'].astype(int)\n",
    "\n",
    "    # Obtener los precios de los juegos comprados por el usuario\n",
    "    precios_juegos = user_items_filtered.merge(\n",
    "        steam_games_df[['item_id', 'price']], \n",
    "        left_on='item_id', \n",
    "        right_on='item_id',\n",
    "        how='left'\n",
    "    )['price']\n",
    "\n",
    "    # Convertir los precios a números\n",
    "    precios_juegos = pd.to_numeric(precios_juegos, errors='coerce')\n",
    "\n",
    "    # Calcular el total gastado por el usuario\n",
    "    total_gastado = precios_juegos.sum()\n",
    "\n",
    "    # Filtrar el DataFrame de revisiones por el usuario dado usando .loc\n",
    "    user_reviews_filtered = user_reviews_df.loc[user_reviews_df['user_id'] == user_id].copy()\n",
    "\n",
    "    # Calcular el porcentaje de recomendación\n",
    "    if len(user_reviews_filtered) > 0:\n",
    "        porcentaje_recomendacion = (user_reviews_filtered['recommend'].sum() / len(user_reviews_filtered)) * 100\n",
    "        mensaje_recomendacion = f\"{porcentaje_recomendacion:.2f}% de recomendación\"\n",
    "    else:\n",
    "        mensaje_recomendacion = \"Este jugador nunca ha recomendado\"\n",
    "\n",
    "    # Calcular la cantidad de items del usuario\n",
    "    cantidad_items = len(user_items_filtered)\n",
    "\n",
    "    # Crear el diccionario de retorno\n",
    "    retorno = {\n",
    "        \"Usuario\": user_id,\n",
    "        \"Dinero gastado\": f\"{total_gastado:.2f} USD\",\n",
    "        \"% de recomendación\": mensaje_recomendacion,\n",
    "        \"Cantidad de items\": cantidad_items\n",
    "    }\n",
    "\n",
    "    return retorno\n",
    "\n",
    "\n"
   ]
  },
  {
   "cell_type": "code",
   "execution_count": 3,
   "metadata": {},
   "outputs": [
    {
     "name": "stdout",
     "output_type": "stream",
     "text": [
      "{'Usuario': '76561198070234207', 'Dinero gastado': '69.95 USD', '% de recomendación': 'Este jugador nunca ha recomendado', 'Cantidad de items': 33}\n"
     ]
    }
   ],
   "source": [
    "# Llamar a la función userdata con el ID de usuario especificado\n",
    "resultado = userdata(\"76561198070234207\")\n",
    "\n",
    "# Imprimir el resultado\n",
    "print(resultado)"
   ]
  }
 ],
 "metadata": {
  "kernelspec": {
   "display_name": "Python 3",
   "language": "python",
   "name": "python3"
  },
  "language_info": {
   "codemirror_mode": {
    "name": "ipython",
    "version": 3
   },
   "file_extension": ".py",
   "mimetype": "text/x-python",
   "name": "python",
   "nbconvert_exporter": "python",
   "pygments_lexer": "ipython3",
   "version": "3.11.5"
  }
 },
 "nbformat": 4,
 "nbformat_minor": 2
}
