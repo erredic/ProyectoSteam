{
 "cells": [
  {
   "cell_type": "markdown",
   "metadata": {},
   "source": [
    "def developer( desarrollador : str ): Cantidad de items y porcentaje de contenido Free por año según empresa desarrolladora."
   ]
  },
  {
   "cell_type": "code",
   "execution_count": 3,
   "metadata": {},
   "outputs": [
    {
     "name": "stdout",
     "output_type": "stream",
     "text": [
      "Lo siento, no se encuentra este desarrollador. Revisa la ortografía.\n"
     ]
    }
   ],
   "source": [
    "import pandas as pd\n",
    "\n",
    "def developer(dataframe, desarrollador):\n",
    "    # Verificar si el desarrollador existe en el conjunto de datos\n",
    "    if desarrollador not in dataframe['developer'].unique():\n",
    "        print(\"Lo siento, no se encuentra este desarrollador. Revisa la ortografía.\")\n",
    "        return\n",
    "\n",
    "    # Filtrar el dataframe por el desarrollador especificado\n",
    "    df_developer = dataframe[dataframe['developer'] == desarrollador].copy()  # Añadimos .copy() para evitar la advertencia\n",
    "\n",
    "    # Convertir la columna 'release_date' a tipo datetime usando .loc\n",
    "    df_developer.loc[:, 'release_date'] = pd.to_datetime(df_developer['release_date'])\n",
    "\n",
    "    # Agrupar por año y contar la cantidad de juegos lanzados por año\n",
    "    games_by_year = df_developer.groupby(df_developer['release_date'].dt.year)['title'].count()\n",
    "\n",
    "    # Calcular la cantidad de juegos con contenido gratuito por año\n",
    "    free_games_by_year = df_developer[df_developer['price'] == 'Free'].groupby(df_developer['release_date'].dt.year)['title'].count()\n",
    "\n",
    "    # Calcular el porcentaje de contenido gratuito por año\n",
    "    percentage_free_by_year = (free_games_by_year / games_by_year) * 100\n",
    "\n",
    "    # Crear un DataFrame para almacenar los resultados\n",
    "    results_df = pd.DataFrame({\n",
    "        'Año': games_by_year.index,\n",
    "        'Cantidad de Items': games_by_year.values,\n",
    "        'Contenido Free': percentage_free_by_year.fillna(0).values.astype(int)\n",
    "    })\n",
    "\n",
    "    # Imprimir los resultados formateados\n",
    "    print(results_df.to_string(index=False))\n",
    "\n",
    "# Nueva ruta del archivo Parquet\n",
    "file_path = \"SteamGames.parquet\"\n",
    "\n",
    "# Cargar el archivo Parquet\n",
    "steam_games_df = pd.read_parquet(file_path)\n",
    "\n",
    "# Solicitar al usuario que ingrese el nombre del desarrollador\n",
    "desarrollador = input(\"Ingrese el nombre del desarrollador: \")\n",
    "\n",
    "# Llamar a la función developer con el nombre del desarrollador ingresado\n",
    "developer(steam_games_df, desarrollador)\n",
    "\n"
   ]
  },
  {
   "cell_type": "code",
   "execution_count": 7,
   "metadata": {},
   "outputs": [],
   "source": [
    "import pandas as pd\n",
    "\n",
    "def developer(desarrollador):\n",
    "    # Nueva ruta del archivo Parquet\n",
    "    file_path = \"SteamGames.parquet\"\n",
    "    \n",
    "    # Cargar el archivo Parquet\n",
    "    steam_games_df = pd.read_parquet(file_path)\n",
    "    \n",
    "    # Verificar si el desarrollador existe en el conjunto de datos\n",
    "    if desarrollador not in steam_games_df['developer'].unique():\n",
    "        print(\"Lo siento, no se encuentra este desarrollador. Revisa la ortografía.\")\n",
    "        return\n",
    "\n",
    "    # Filtrar el dataframe por el desarrollador especificado\n",
    "    df_developer = steam_games_df[steam_games_df['developer'] == desarrollador].copy()  # Añadimos .copy() para evitar la advertencia\n",
    "\n",
    "    # Convertir la columna 'release_date' a tipo datetime usando .loc\n",
    "    df_developer.loc[:, 'release_date'] = pd.to_datetime(df_developer['release_date'])\n",
    "\n",
    "    # Agrupar por año y contar la cantidad de juegos lanzados por año\n",
    "    games_by_year = df_developer.groupby(df_developer['release_date'].dt.year)['title'].count()\n",
    "\n",
    "    # Calcular la cantidad de juegos con contenido gratuito por año\n",
    "    free_games_by_year = df_developer[df_developer['price'] == 'Free'].groupby(df_developer['release_date'].dt.year)['title'].count()\n",
    "\n",
    "    # Calcular el porcentaje de contenido gratuito por año\n",
    "    percentage_free_by_year = (free_games_by_year / games_by_year) * 100\n",
    "\n",
    "    # Crear un DataFrame para almacenar los resultados\n",
    "    results_df = pd.DataFrame({\n",
    "        'Año': games_by_year.index,\n",
    "        'Cantidad de Items': games_by_year.values,\n",
    "        'Contenido Free': percentage_free_by_year.fillna(0).values.astype(int)\n",
    "    })\n",
    "\n",
    "    # Imprimir los resultados formateados\n",
    "    print(results_df.to_string(index=False))\n",
    "\n"
   ]
  },
  {
   "cell_type": "code",
   "execution_count": 9,
   "metadata": {},
   "outputs": [
    {
     "name": "stdout",
     "output_type": "stream",
     "text": [
      " Año  Cantidad de Items  Contenido Free\n",
      "2018                  1               0\n"
     ]
    }
   ],
   "source": [
    "# Ejemplo de llamar a la función developer con el nombre del desarrollador especificado\n",
    "developer(\"Kotoshiro\")\n"
   ]
  }
 ],
 "metadata": {
  "kernelspec": {
   "display_name": "Python 3",
   "language": "python",
   "name": "python3"
  },
  "language_info": {
   "codemirror_mode": {
    "name": "ipython",
    "version": 3
   },
   "file_extension": ".py",
   "mimetype": "text/x-python",
   "name": "python",
   "nbconvert_exporter": "python",
   "pygments_lexer": "ipython3",
   "version": "3.11.5"
  }
 },
 "nbformat": 4,
 "nbformat_minor": 2
}
