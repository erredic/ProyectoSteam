{
 "cells": [
  {
   "cell_type": "markdown",
   "metadata": {},
   "source": [
    "def developer_reviews_analysis( desarrolladora : str ): Según el desarrollador, se devuelve un diccionario con el nombre del desarrollador como llave y una lista con la cantidad total de registros de reseñas de usuarios que se encuentren categorizados con un análisis de sentimiento como valor positivo o negativo."
   ]
  },
  {
   "cell_type": "code",
   "execution_count": 1,
   "metadata": {},
   "outputs": [
    {
     "name": "stdout",
     "output_type": "stream",
     "text": [
      "{'Kotoshiro': {'Positive': 0, 'Negative': 0}}\n"
     ]
    }
   ],
   "source": [
    "import pandas as pd\n",
    "\n",
    "def developer_reviews_analysis():\n",
    "    # Cargar los DataFrames\n",
    "    steam_games_df = pd.read_parquet(\"SteamGames.parquet\")\n",
    "    user_reviews_df = pd.read_parquet(\"UserReviews.parquet\")\n",
    "\n",
    "    # Solicitar el nombre del desarrollador\n",
    "    desarrolladora = input(\"Ingresa el nombre del desarrollador: \")\n",
    "\n",
    "    # Filtrar las revisiones para la desarrolladora especificada\n",
    "    reviews_desarrolladora = user_reviews_df[user_reviews_df['item_id'].isin(steam_games_df[steam_games_df['developer'] == desarrolladora]['item_id'])]\n",
    "\n",
    "    # Filtrar las revisiones con análisis de sentimiento positivo o negativo\n",
    "    reviews_positivas = reviews_desarrolladora[reviews_desarrolladora['sentiment_analysis'] > 0]\n",
    "    reviews_negativas = reviews_desarrolladora[reviews_desarrolladora['sentiment_analysis'] < 0]\n",
    "\n",
    "    # Contar la cantidad de revisiones positivas y negativas\n",
    "    positivas_count = reviews_positivas.shape[0]\n",
    "    negativas_count = reviews_negativas.shape[0]\n",
    "\n",
    "    # Construir el diccionario de retorno\n",
    "    retorno = {desarrolladora: {\"Positive\": positivas_count, \"Negative\": negativas_count}}\n",
    "\n",
    "    return retorno\n",
    "\n",
    "# Ejecutar la función\n",
    "resultado = developer_reviews_analysis()\n",
    "print(resultado)"
   ]
  },
  {
   "cell_type": "code",
   "execution_count": 6,
   "metadata": {},
   "outputs": [],
   "source": [
    "import pandas as pd\n",
    "\n",
    "def developer_reviews_analysis(desarrolladora: str):\n",
    "    # Cargar los DataFrames\n",
    "    steam_games_df = pd.read_parquet(\"SteamGames.parquet\")\n",
    "    user_reviews_df = pd.read_parquet(\"UserReviews.parquet\")\n",
    "\n",
    "    # Filtrar las revisiones para la desarrolladora especificada\n",
    "    reviews_desarrolladora = user_reviews_df[user_reviews_df['item_id'].isin(steam_games_df[steam_games_df['developer'] == desarrolladora]['item_id'])]\n",
    "\n",
    "    # Filtrar las revisiones con análisis de sentimiento positivo o negativo\n",
    "    reviews_positivas = reviews_desarrolladora[reviews_desarrolladora['sentiment_analysis'] > 0]\n",
    "    reviews_negativas = reviews_desarrolladora[reviews_desarrolladora['sentiment_analysis'] < 0]\n",
    "\n",
    "    # Contar la cantidad de revisiones positivas y negativas\n",
    "    positivas_count = reviews_positivas.shape[0]\n",
    "    negativas_count = reviews_negativas.shape[0]\n",
    "\n",
    "    # Construir el diccionario de retorno\n",
    "    retorno = {desarrolladora: {\"Positive\": positivas_count, \"Negative\": negativas_count}}\n",
    "\n",
    "    return retorno\n",
    "\n",
    "\n",
    "\n"
   ]
  },
  {
   "cell_type": "code",
   "execution_count": 5,
   "metadata": {},
   "outputs": [
    {
     "name": "stdout",
     "output_type": "stream",
     "text": [
      "{'Kotoshiro': {'Positive': 0, 'Negative': 0}}\n"
     ]
    }
   ],
   "source": [
    "# Ejecutar la función y almacenar el resultado en una variable\n",
    "resultado = developer_reviews_analysis(\"Kotoshiro\")\n",
    "print(resultado)"
   ]
  }
 ],
 "metadata": {
  "kernelspec": {
   "display_name": "Python 3",
   "language": "python",
   "name": "python3"
  },
  "language_info": {
   "codemirror_mode": {
    "name": "ipython",
    "version": 3
   },
   "file_extension": ".py",
   "mimetype": "text/x-python",
   "name": "python",
   "nbconvert_exporter": "python",
   "pygments_lexer": "ipython3",
   "version": "3.11.5"
  }
 },
 "nbformat": 4,
 "nbformat_minor": 2
}
