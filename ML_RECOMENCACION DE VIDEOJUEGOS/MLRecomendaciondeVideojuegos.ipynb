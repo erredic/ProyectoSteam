{
 "cells": [
  {
   "cell_type": "markdown",
   "metadata": {},
   "source": [
    "Se realizara un codigo con el cual se puedan recomendar videojuegos "
   ]
  },
  {
   "cell_type": "code",
   "execution_count": 5,
   "metadata": {},
   "outputs": [],
   "source": [
    "from sklearn.metrics.pairwise import cosine_similarity\n",
    "from sklearn.feature_extraction.text import TfidfVectorizer\n",
    "import pandas as pd\n",
    "\n",
    "steam_games_df = pd.read_csv(\"SteamGames.csv\")\n",
    "user_items_df = pd.read_csv(\"UsersItems.csv\")"
   ]
  },
  {
   "cell_type": "code",
   "execution_count": 7,
   "metadata": {},
   "outputs": [],
   "source": [
    "# Eliminar las filas con valores nulos en las columnas relevantes\n",
    "steam_games_df.dropna(subset=['genres'], inplace=True)"
   ]
  },
  {
   "cell_type": "code",
   "execution_count": 8,
   "metadata": {},
   "outputs": [],
   "source": [
    "# Convertir la columna 'genres' en una lista de géneros\n",
    "steam_games_df['genres'] = steam_games_df['genres'].apply(eval)"
   ]
  },
  {
   "cell_type": "code",
   "execution_count": 9,
   "metadata": {},
   "outputs": [],
   "source": [
    "# Convertir la lista de géneros en una cadena separada por espacios\n",
    "steam_games_df['genres_str'] = steam_games_df['genres'].apply(lambda x: ' '.join(x))\n"
   ]
  },
  {
   "cell_type": "code",
   "execution_count": 10,
   "metadata": {},
   "outputs": [],
   "source": [
    "# Inicializar y ajustar el vectorizador TF-IDF\n",
    "tfidf_vectorizer = TfidfVectorizer()\n",
    "tfidf_matrix = tfidf_vectorizer.fit_transform(steam_games_df['genres_str'])"
   ]
  },
  {
   "cell_type": "code",
   "execution_count": 11,
   "metadata": {},
   "outputs": [],
   "source": [
    "cosine_sim = cosine_similarity(tfidf_matrix, tfidf_matrix)"
   ]
  },
  {
   "cell_type": "code",
   "execution_count": 18,
   "metadata": {},
   "outputs": [
    {
     "name": "stdout",
     "output_type": "stream",
     "text": [
      "Juego actual: Volt\n",
      "Juegos recomendados:\n",
      "3839      Avalanche 2: Super Avalanche\n",
      "9202                         Red Death\n",
      "9203                   Monster Slayers\n",
      "9210                         88 Heroes\n",
      "23549    Skullgirls 2nd Encore Upgrade\n",
      "Name: title, dtype: object\n"
     ]
    }
   ],
   "source": [
    "# Ejemplo de recomendación para un juego específico\n",
    "game_index = 2000 # Índice del juego para el que quieres obtener recomendaciones\n",
    "similar_games_indices = cosine_sim[game_index].argsort()[::-1][1:6]  # Top 5 juegos similares (excluyendo el juego actual)\n",
    "similar_games = steam_games_df.iloc[similar_games_indices]['title']\n",
    "print(\"Juego actual:\", steam_games_df.iloc[game_index]['title'])\n",
    "print(\"Juegos recomendados:\")\n",
    "print(similar_games)"
   ]
  }
 ],
 "metadata": {
  "kernelspec": {
   "display_name": "Python 3",
   "language": "python",
   "name": "python3"
  },
  "language_info": {
   "codemirror_mode": {
    "name": "ipython",
    "version": 3
   },
   "file_extension": ".py",
   "mimetype": "text/x-python",
   "name": "python",
   "nbconvert_exporter": "python",
   "pygments_lexer": "ipython3",
   "version": "3.11.5"
  }
 },
 "nbformat": 4,
 "nbformat_minor": 2
}
