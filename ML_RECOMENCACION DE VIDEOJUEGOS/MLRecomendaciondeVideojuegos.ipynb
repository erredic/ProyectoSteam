{
 "cells": [
  {
   "cell_type": "markdown",
   "metadata": {},
   "source": [
    "Se realizara un codigo con el cual se puedan recomendar videojuegos "
   ]
  },
  {
   "cell_type": "code",
   "execution_count": 8,
   "metadata": {},
   "outputs": [
    {
     "name": "stdout",
     "output_type": "stream",
     "text": [
      "Juego actual: Left in the Dark: No One on Board\n",
      "Juegos recomendados:\n",
      "19451            Corona Blossom Vol.3 Journey to the Stars\n",
      "3888                             Lost Lands: Dark Overlord\n",
      "28894    Freddi Fish 5: The Case of the Creature of Cor...\n",
      "28892                         Spy Fox In: Hold the Mustard\n",
      "28889                  Putt-Putt®: Pep's Birthday Surprise\n",
      "Name: title, dtype: object\n"
     ]
    }
   ],
   "source": [
    "from sklearn.metrics.pairwise import cosine_similarity\n",
    "from sklearn.feature_extraction.text import TfidfVectorizer\n",
    "import pandas as pd\n",
    "\n",
    "def recommend_similar_games(game_index):\n",
    "    # Cargar los DataFrames\n",
    "    steam_games_df = pd.read_csv(\"SteamGames.csv\")\n",
    "    user_items_df = pd.read_csv(\"UsersItems.csv\")\n",
    "    \n",
    "    steam_games_df.dropna(subset=['genres_str'], inplace=True)\n",
    "    steam_games_df = steam_games_df[steam_games_df['genres_str'].str.strip().astype(bool)]\n",
    "    \n",
    "    # Inicializar y ajustar el vectorizador TF-IDF\n",
    "    tfidf_vectorizer = TfidfVectorizer()\n",
    "    tfidf_matrix = tfidf_vectorizer.fit_transform(steam_games_df['genres_str'])\n",
    "    \n",
    "    # Calcular la similitud coseno\n",
    "    cosine_sim = cosine_similarity(tfidf_matrix, tfidf_matrix)\n",
    "    \n",
    "    # Asegurarse de que el game_index esté en el rango válido\n",
    "    if game_index >= len(steam_games_df) or game_index < 0:\n",
    "        raise ValueError(\"Game index out of range\")\n",
    "    \n",
    "    # Obtener recomendaciones para el juego específico\n",
    "    similar_games_indices = cosine_sim[game_index].argsort()[::-1][1:6]  # Top 5 juegos similares (excluyendo el juego actual)\n",
    "    similar_games = steam_games_df.iloc[similar_games_indices]['title']\n",
    "    \n",
    "    print(\"Juego actual:\", steam_games_df.iloc[game_index]['title'])\n",
    "    print(\"Juegos recomendados:\")\n",
    "    print(similar_games)\n",
    "\n",
    "recommend_similar_games(2640)  # Cambiar el índice del juego según lo necesario"
   ]
  }
 ],
 "metadata": {
  "kernelspec": {
   "display_name": "Python 3",
   "language": "python",
   "name": "python3"
  },
  "language_info": {
   "codemirror_mode": {
    "name": "ipython",
    "version": 3
   },
   "file_extension": ".py",
   "mimetype": "text/x-python",
   "name": "python",
   "nbconvert_exporter": "python",
   "pygments_lexer": "ipython3",
   "version": "3.11.5"
  }
 },
 "nbformat": 4,
 "nbformat_minor": 2
}
